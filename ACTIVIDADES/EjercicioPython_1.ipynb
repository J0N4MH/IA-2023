{
  "nbformat": 4,
  "nbformat_minor": 0,
  "metadata": {
    "colab": {
      "provenance": []
    },
    "kernelspec": {
      "name": "python3",
      "display_name": "Python 3"
    },
    "language_info": {
      "name": "python"
    }
  },
  "cells": [
    {
      "cell_type": "markdown",
      "source": [
        "Jonthan alexis macias hernandez 1947881 N1 Inteligencia Artificial"
      ],
      "metadata": {
        "id": "R8qddGdK_IZp"
      }
    },
    {
      "cell_type": "code",
      "source": [
        "# Solicita al usuario un número entero\n",
        "numero = int(input(\"Por favor, echame número papito: \"))\n",
        "\n",
        "# Comprueba si el número es par o impar\n",
        "if numero % 2 == 0:\n",
        "    print(f\"{numero} es un número par.\")\n",
        "else:\n",
        "    print(f\"{numero} es un número impar.\")"
      ],
      "metadata": {
        "colab": {
          "base_uri": "https://localhost:8080/"
        },
        "id": "n1ArF175mOBz",
        "outputId": "db0e99d8-675a-40c1-b5df-a68cbaa5e4ab"
      },
      "execution_count": 1,
      "outputs": [
        {
          "output_type": "stream",
          "name": "stdout",
          "text": [
            "Por favor, echame número papito: 23\n",
            "23 es un número impar.\n"
          ]
        }
      ]
    },
    {
      "cell_type": "code",
      "source": [
        "# Solicita al usuario la cantidad de números que desea ingresar\n",
        "cantidad = int(input(\"Ingrese la cantidad de números que deseas tener en tu lista: \"))\n",
        "\n",
        "# Inicializa una lista vacía para almacenar los números\n",
        "numeros = []\n",
        "\n",
        "# Recopila los números ingresados por el usuario\n",
        "for i in range(cantidad):\n",
        "    numero = int(input(f\"Ingrese el número #{i + 1}: \"))\n",
        "    numeros.append(numero)\n",
        "\n",
        "# Invierte la lista de números\n",
        "numeros_invertidos = numeros[::-1]\n",
        "\n",
        "# Imprime la lista en orden inverso\n",
        "print(\"Los números en orden inverso son:\")\n",
        "for numero in numeros_invertidos:\n",
        "    print(numero)\n",
        "\n"
      ],
      "metadata": {
        "colab": {
          "base_uri": "https://localhost:8080/"
        },
        "id": "8-Kd5VfpogQX",
        "outputId": "f0873216-58f7-4ca5-85a8-3c3d35e4d276"
      },
      "execution_count": 2,
      "outputs": [
        {
          "output_type": "stream",
          "name": "stdout",
          "text": [
            "Ingrese la cantidad de números que deseas tener en tu lista: 5\n",
            "Ingrese el número #1: 1\n",
            "Ingrese el número #2: 2\n",
            "Ingrese el número #3: 3\n",
            "Ingrese el número #4: 4\n",
            "Ingrese el número #5: 5\n",
            "Los números en orden inverso son:\n",
            "5\n",
            "4\n",
            "3\n",
            "2\n",
            "1\n"
          ]
        }
      ]
    },
    {
      "cell_type": "code",
      "source": [
        "def es_primo(numero):\n",
        "    if numero <= 1:\n",
        "        return False\n",
        "    if numero <= 3:\n",
        "        return True\n",
        "    if numero % 2 == 0 or numero % 3 == 0:\n",
        "        return False\n",
        "    i = 5\n",
        "    while i * i <= numero:\n",
        "        if numero % i == 0 or numero % (i + 2) == 0:\n",
        "            return False\n",
        "        i += 6\n",
        "    return True\n",
        "\n",
        "# Solicita al usuario un rango de números\n",
        "inicio = int(input(\"Ingresa el primer número del rango: \"))\n",
        "fin = int(input(\"Ingresa el ultimlo número del rango: \"))\n",
        "\n",
        "# Imprime todos los números primos en el rango dado\n",
        "print(f\"Los números primos en el rango de {inicio} a {fin} son:\")\n",
        "for numero in range(inicio, fin + 1):\n",
        "    if es_primo(numero):\n",
        "        print(numero)"
      ],
      "metadata": {
        "colab": {
          "base_uri": "https://localhost:8080/"
        },
        "id": "5SzzL-SStuam",
        "outputId": "6955c9f4-86c0-4c8b-ee46-45facd21d496"
      },
      "execution_count": 4,
      "outputs": [
        {
          "output_type": "stream",
          "name": "stdout",
          "text": [
            "Ingresa el primer número del rango: 1\n",
            "Ingresa el ultimlo número del rango: 10\n",
            "Los números primos en el rango de 1 a 10 son:\n",
            "2\n",
            "3\n",
            "5\n",
            "7\n"
          ]
        }
      ]
    },
    {
      "cell_type": "code",
      "source": [
        "import random\n",
        "\n",
        "# Generar un número aleatorio entre 1 y 100\n",
        "numero_objetivo = random.randint(1, 100)\n",
        "\n",
        "print(\"Hola, do yo wanna play a game?(sonido de saw)\")\n",
        "\n",
        "intentos = 0\n",
        "\n",
        "while True:\n",
        "    try:\n",
        "        # Pedir al usuario que ingrese un número\n",
        "        intento = int(input(\"Adivina el número (entre 1 y 100): \"))\n",
        "\n",
        "        # Incrementar el contador de intentos\n",
        "        intentos += 1\n",
        "\n",
        "        # Comprobar si el número es igual al objetivo\n",
        "        if intento == numero_objetivo:\n",
        "            print(f\" Ahuevo! le atinaste al numero {numero_objetivo} en {intentos} intentos.\")\n",
        "            break\n",
        "        elif intento < numero_objetivo:\n",
        "            print(\"El número es mayor. Prueba otra vez.\")\n",
        "        else:\n",
        "            print(\"El número es menor. Prueba otra vez.\")\n",
        "    except ValueError:\n",
        "        print(\"Por favor, ingresa un número válido.\")\n",
        "\n"
      ],
      "metadata": {
        "colab": {
          "base_uri": "https://localhost:8080/"
        },
        "id": "zr_KHbd-JBet",
        "outputId": "b5eec068-682b-474b-fef3-91e7b50bf115"
      },
      "execution_count": 6,
      "outputs": [
        {
          "output_type": "stream",
          "name": "stdout",
          "text": [
            "Hola, do yo wanna play a game?(sonido de saw)\n",
            "Adivina el número (entre 1 y 100): 50\n",
            "El número es mayor. Prueba otra vez.\n",
            "Adivina el número (entre 1 y 100): 80\n",
            "El número es mayor. Prueba otra vez.\n",
            "Adivina el número (entre 1 y 100): 87\n",
            "El número es menor. Prueba otra vez.\n",
            "Adivina el número (entre 1 y 100): 83\n",
            "El número es mayor. Prueba otra vez.\n",
            "Adivina el número (entre 1 y 100): 85\n",
            " Ahuevo! le atinaste al numero 85 en 5 intentos.\n"
          ]
        }
      ]
    }
  ]
}